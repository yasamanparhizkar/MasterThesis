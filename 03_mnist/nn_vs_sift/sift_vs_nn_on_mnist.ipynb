{
 "cells": [
  {
   "cell_type": "code",
   "execution_count": 1,
   "id": "5719fae5",
   "metadata": {},
   "outputs": [],
   "source": [
    "import numpy as np\n",
    "import matplotlib.pyplot as plt\n",
    "import sift_on_mnist\n",
    "import nn_on_mnist"
   ]
  },
  {
   "cell_type": "markdown",
   "id": "36cec718",
   "metadata": {},
   "source": [
    "# Method 1: one-layer neural network"
   ]
  },
  {
   "cell_type": "code",
   "execution_count": 2,
   "id": "b38b3466",
   "metadata": {},
   "outputs": [],
   "source": [
    "raw_data_x, raw_data_y, num_classes, data_dim, img_sz = nn_on_mnist.prepare_data('mnist')"
   ]
  },
  {
   "cell_type": "code",
   "execution_count": 3,
   "id": "c2210db1",
   "metadata": {},
   "outputs": [],
   "source": [
    "# Test Area\n",
    "# portion = 0.01\n",
    "# fracs = [0.6, 0.4]\n",
    "# show_msgs = True\n",
    "\n",
    "# num_train, num_val, acc, M = nn_on_mnist.learn_nn(raw_data_x, raw_data_y, portion, fracs, img_sz, num_classes, show_msgs)"
   ]
  },
  {
   "cell_type": "code",
   "execution_count": 4,
   "id": "81f4724a",
   "metadata": {
    "scrolled": true
   },
   "outputs": [
    {
     "name": "stdout",
     "output_type": "stream",
     "text": [
      "portion = 0.005 #0:\tnum_val = 29\tacc = 1.000000\n",
      "portion = 0.005 #1:\tnum_val = 29\tacc = 1.000000\n",
      "portion = 0.005 #2:\tnum_val = 29\tacc = 1.000000\n",
      "portion = 0.005 #3:\tnum_val = 29\tacc = 1.000000\n",
      "portion = 0.005 #4:\tnum_val = 29\tacc = 1.000000\n",
      "portion = 0.005 #5:\tnum_val = 29\tacc = 0.965517\n",
      "portion = 0.005 #6:\tnum_val = 29\tacc = 1.000000\n",
      "portion = 0.005 #7:\tnum_val = 29\tacc = 1.000000\n",
      "portion = 0.005 #8:\tnum_val = 29\tacc = 1.000000\n",
      "portion = 0.005 #9:\tnum_val = 29\tacc = 1.000000\n",
      "portion = 0.005 #10:\tnum_val = 29\tacc = 1.000000\n",
      "portion = 0.005 #11:\tnum_val = 29\tacc = 0.482759\n",
      "portion = 0.005 #12:\tnum_val = 29\tacc = 1.000000\n",
      "portion = 0.005 #13:\tnum_val = 29\tacc = 1.000000\n",
      "portion = 0.005 #14:\tnum_val = 29\tacc = 1.000000\n",
      "portion = 0.005 #15:\tnum_val = 29\tacc = 1.000000\n",
      "portion = 0.005 #16:\tnum_val = 29\tacc = 1.000000\n",
      "portion = 0.005 #17:\tnum_val = 29\tacc = 1.000000\n",
      "portion = 0.005 #18:\tnum_val = 29\tacc = 1.000000\n",
      "portion = 0.005 #19:\tnum_val = 29\tacc = 0.965517\n",
      "portion = 0.005 #20:\tnum_val = 29\tacc = 1.000000\n",
      "portion = 0.005 #21:\tnum_val = 29\tacc = 1.000000\n",
      "portion = 0.005 #22:\tnum_val = 29\tacc = 1.000000\n",
      "portion = 0.005 #23:\tnum_val = 29\tacc = 1.000000\n",
      "portion = 0.005 #24:\tnum_val = 29\tacc = 1.000000\n",
      "portion = 0.005 #25:\tnum_val = 29\tacc = 1.000000\n",
      "portion = 0.005 #26:\tnum_val = 29\tacc = 0.965517\n",
      "portion = 0.005 #27:\tnum_val = 29\tacc = 1.000000\n",
      "portion = 0.005 #28:\tnum_val = 29\tacc = 1.000000\n",
      "portion = 0.005 #29:\tnum_val = 29\tacc = 1.000000\n",
      "portion = 0.005 #30:\tnum_val = 29\tacc = 1.000000\n",
      "portion = 0.005 #31:\tnum_val = 29\tacc = 0.965517\n",
      "portion = 0.005 #32:\tnum_val = 29\tacc = 1.000000\n",
      "portion = 0.005 #33:\tnum_val = 29\tacc = 1.000000\n",
      "portion = 0.005 #34:\tnum_val = 29\tacc = 1.000000\n",
      "portion = 0.005 #35:\tnum_val = 29\tacc = 1.000000\n",
      "portion = 0.005 #36:\tnum_val = 29\tacc = 1.000000\n",
      "portion = 0.005 #37:\tnum_val = 29\tacc = 1.000000\n",
      "portion = 0.005 #38:\tnum_val = 29\tacc = 1.000000\n",
      "portion = 0.005 #39:\tnum_val = 29\tacc = 1.000000\n",
      "portion = 0.005 #40:\tnum_val = 29\tacc = 1.000000\n",
      "portion = 0.005 #41:\tnum_val = 29\tacc = 1.000000\n",
      "portion = 0.005 #42:\tnum_val = 29\tacc = 1.000000\n",
      "portion = 0.005 #43:\tnum_val = 29\tacc = 1.000000\n",
      "portion = 0.005 #44:\tnum_val = 29\tacc = 1.000000\n",
      "portion = 0.005 #45:\tnum_val = 29\tacc = 1.000000\n",
      "portion = 0.005 #46:\tnum_val = 29\tacc = 1.000000\n",
      "portion = 0.005 #47:\tnum_val = 29\tacc = 1.000000\n",
      "portion = 0.005 #48:\tnum_val = 29\tacc = 1.000000\n",
      "portion = 0.005 #49:\tnum_val = 29\tacc = 1.000000\n",
      "FIN portion = 0.005:\tnum_val = 29.000000 +- 0.000000\tacc = 0.986897 +- 0.072624\n",
      "portion = 0.01 #0:\tnum_val = 58\tacc = 0.982759\n",
      "portion = 0.01 #1:\tnum_val = 58\tacc = 1.000000\n",
      "portion = 0.01 #2:\tnum_val = 58\tacc = 1.000000\n",
      "portion = 0.01 #3:\tnum_val = 58\tacc = 1.000000\n",
      "portion = 0.01 #4:\tnum_val = 58\tacc = 0.982759\n",
      "portion = 0.01 #5:\tnum_val = 58\tacc = 1.000000\n",
      "portion = 0.01 #6:\tnum_val = 58\tacc = 1.000000\n",
      "portion = 0.01 #7:\tnum_val = 58\tacc = 1.000000\n",
      "portion = 0.01 #8:\tnum_val = 58\tacc = 0.982759\n",
      "portion = 0.01 #9:\tnum_val = 58\tacc = 1.000000\n",
      "portion = 0.01 #10:\tnum_val = 58\tacc = 0.982759\n",
      "portion = 0.01 #11:\tnum_val = 58\tacc = 1.000000\n",
      "portion = 0.01 #12:\tnum_val = 58\tacc = 1.000000\n",
      "portion = 0.01 #13:\tnum_val = 58\tacc = 1.000000\n",
      "portion = 0.01 #14:\tnum_val = 58\tacc = 0.982759\n",
      "portion = 0.01 #15:\tnum_val = 58\tacc = 0.982759\n",
      "portion = 0.01 #16:\tnum_val = 58\tacc = 0.982759\n",
      "portion = 0.01 #17:\tnum_val = 58\tacc = 1.000000\n",
      "portion = 0.01 #18:\tnum_val = 58\tacc = 1.000000\n",
      "portion = 0.01 #19:\tnum_val = 58\tacc = 1.000000\n",
      "portion = 0.01 #20:\tnum_val = 58\tacc = 1.000000\n",
      "portion = 0.01 #21:\tnum_val = 58\tacc = 1.000000\n",
      "portion = 0.01 #22:\tnum_val = 58\tacc = 1.000000\n",
      "portion = 0.01 #23:\tnum_val = 58\tacc = 1.000000\n",
      "portion = 0.01 #24:\tnum_val = 58\tacc = 1.000000\n",
      "portion = 0.01 #25:\tnum_val = 58\tacc = 1.000000\n",
      "portion = 0.01 #26:\tnum_val = 58\tacc = 1.000000\n",
      "portion = 0.01 #27:\tnum_val = 58\tacc = 1.000000\n",
      "portion = 0.01 #28:\tnum_val = 58\tacc = 1.000000\n",
      "portion = 0.01 #29:\tnum_val = 58\tacc = 0.982759\n",
      "portion = 0.01 #30:\tnum_val = 58\tacc = 0.982759\n",
      "portion = 0.01 #31:\tnum_val = 58\tacc = 0.982759\n",
      "portion = 0.01 #32:\tnum_val = 58\tacc = 1.000000\n",
      "portion = 0.01 #33:\tnum_val = 58\tacc = 1.000000\n",
      "portion = 0.01 #34:\tnum_val = 58\tacc = 1.000000\n",
      "portion = 0.01 #35:\tnum_val = 58\tacc = 1.000000\n",
      "portion = 0.01 #36:\tnum_val = 58\tacc = 0.948276\n",
      "portion = 0.01 #37:\tnum_val = 58\tacc = 1.000000\n",
      "portion = 0.01 #38:\tnum_val = 58\tacc = 1.000000\n",
      "portion = 0.01 #39:\tnum_val = 58\tacc = 1.000000\n",
      "portion = 0.01 #40:\tnum_val = 58\tacc = 1.000000\n",
      "portion = 0.01 #41:\tnum_val = 58\tacc = 1.000000\n",
      "portion = 0.01 #42:\tnum_val = 58\tacc = 1.000000\n",
      "portion = 0.01 #43:\tnum_val = 58\tacc = 0.982759\n",
      "portion = 0.01 #44:\tnum_val = 58\tacc = 1.000000\n",
      "portion = 0.01 #45:\tnum_val = 58\tacc = 1.000000\n",
      "portion = 0.01 #46:\tnum_val = 58\tacc = 0.982759\n",
      "portion = 0.01 #47:\tnum_val = 58\tacc = 0.982759\n",
      "portion = 0.01 #48:\tnum_val = 58\tacc = 1.000000\n",
      "portion = 0.01 #49:\tnum_val = 58\tacc = 0.982759\n",
      "FIN portion = 0.01:\tnum_val = 58.000000 +- 0.000000\tacc = 0.994138 +- 0.010118\n",
      "portion = 0.015 #0:\tnum_val = 88\tacc = 1.000000\n",
      "portion = 0.015 #1:\tnum_val = 88\tacc = 1.000000\n",
      "portion = 0.015 #2:\tnum_val = 88\tacc = 0.965909\n",
      "portion = 0.015 #3:\tnum_val = 88\tacc = 1.000000\n",
      "portion = 0.015 #4:\tnum_val = 88\tacc = 1.000000\n",
      "portion = 0.015 #5:\tnum_val = 88\tacc = 1.000000\n",
      "portion = 0.015 #6:\tnum_val = 88\tacc = 1.000000\n",
      "portion = 0.015 #7:\tnum_val = 88\tacc = 0.988636\n",
      "portion = 0.015 #8:\tnum_val = 88\tacc = 1.000000\n",
      "portion = 0.015 #9:\tnum_val = 88\tacc = 1.000000\n",
      "portion = 0.015 #10:\tnum_val = 88\tacc = 1.000000\n",
      "portion = 0.015 #11:\tnum_val = 88\tacc = 0.988636\n",
      "portion = 0.015 #12:\tnum_val = 88\tacc = 0.988636\n",
      "portion = 0.015 #13:\tnum_val = 88\tacc = 1.000000\n",
      "portion = 0.015 #14:\tnum_val = 88\tacc = 0.988636\n",
      "portion = 0.015 #15:\tnum_val = 88\tacc = 1.000000\n",
      "portion = 0.015 #16:\tnum_val = 88\tacc = 0.988636\n",
      "portion = 0.015 #17:\tnum_val = 88\tacc = 0.988636\n",
      "portion = 0.015 #18:\tnum_val = 88\tacc = 1.000000\n",
      "portion = 0.015 #19:\tnum_val = 88\tacc = 1.000000\n",
      "portion = 0.015 #20:\tnum_val = 88\tacc = 0.988636\n",
      "portion = 0.015 #21:\tnum_val = 88\tacc = 1.000000\n",
      "portion = 0.015 #22:\tnum_val = 88\tacc = 1.000000\n",
      "portion = 0.015 #23:\tnum_val = 88\tacc = 1.000000\n",
      "portion = 0.015 #24:\tnum_val = 88\tacc = 0.988636\n",
      "portion = 0.015 #25:\tnum_val = 88\tacc = 0.965909\n",
      "portion = 0.015 #26:\tnum_val = 88\tacc = 0.988636\n",
      "portion = 0.015 #27:\tnum_val = 88\tacc = 0.977273\n",
      "portion = 0.015 #28:\tnum_val = 88\tacc = 0.988636\n",
      "portion = 0.015 #29:\tnum_val = 88\tacc = 1.000000\n",
      "portion = 0.015 #30:\tnum_val = 88\tacc = 1.000000\n",
      "portion = 0.015 #31:\tnum_val = 88\tacc = 1.000000\n",
      "portion = 0.015 #32:\tnum_val = 88\tacc = 1.000000\n",
      "portion = 0.015 #33:\tnum_val = 88\tacc = 1.000000\n",
      "portion = 0.015 #34:\tnum_val = 88\tacc = 0.522727\n",
      "portion = 0.015 #35:\tnum_val = 88\tacc = 0.977273\n",
      "portion = 0.015 #36:\tnum_val = 88\tacc = 0.977273\n",
      "portion = 0.015 #37:\tnum_val = 88\tacc = 0.988636\n",
      "portion = 0.015 #38:\tnum_val = 88\tacc = 1.000000\n",
      "portion = 0.015 #39:\tnum_val = 88\tacc = 1.000000\n",
      "portion = 0.015 #40:\tnum_val = 88\tacc = 0.988636\n",
      "portion = 0.015 #41:\tnum_val = 88\tacc = 0.988636\n",
      "portion = 0.015 #42:\tnum_val = 88\tacc = 1.000000\n",
      "portion = 0.015 #43:\tnum_val = 88\tacc = 0.988636\n",
      "portion = 0.015 #44:\tnum_val = 88\tacc = 1.000000\n",
      "portion = 0.015 #45:\tnum_val = 88\tacc = 1.000000\n",
      "portion = 0.015 #46:\tnum_val = 88\tacc = 1.000000\n",
      "portion = 0.015 #47:\tnum_val = 88\tacc = 1.000000\n",
      "portion = 0.015 #48:\tnum_val = 88\tacc = 1.000000\n",
      "portion = 0.015 #49:\tnum_val = 88\tacc = 0.988636\n",
      "FIN portion = 0.015:\tnum_val = 88.000000 +- 0.000000\tacc = 0.984318 +- 0.066529\n",
      "portion = 0.02 #0:\tnum_val = 118\tacc = 0.991525\n",
      "portion = 0.02 #1:\tnum_val = 118\tacc = 0.991525\n",
      "portion = 0.02 #2:\tnum_val = 118\tacc = 0.957627\n",
      "portion = 0.02 #3:\tnum_val = 118\tacc = 0.991525\n",
      "portion = 0.02 #4:\tnum_val = 118\tacc = 0.991525\n",
      "portion = 0.02 #5:\tnum_val = 118\tacc = 0.991525\n",
      "portion = 0.02 #6:\tnum_val = 118\tacc = 1.000000\n",
      "portion = 0.02 #7:\tnum_val = 118\tacc = 1.000000\n",
      "portion = 0.02 #8:\tnum_val = 118\tacc = 1.000000\n",
      "portion = 0.02 #9:\tnum_val = 118\tacc = 1.000000\n",
      "portion = 0.02 #10:\tnum_val = 118\tacc = 1.000000\n",
      "portion = 0.02 #11:\tnum_val = 118\tacc = 0.983051\n",
      "portion = 0.02 #12:\tnum_val = 118\tacc = 0.991525\n",
      "portion = 0.02 #13:\tnum_val = 118\tacc = 1.000000\n",
      "portion = 0.02 #14:\tnum_val = 118\tacc = 0.991525\n",
      "portion = 0.02 #15:\tnum_val = 118\tacc = 1.000000\n",
      "portion = 0.02 #16:\tnum_val = 118\tacc = 1.000000\n",
      "portion = 0.02 #17:\tnum_val = 118\tacc = 1.000000\n"
     ]
    },
    {
     "name": "stdout",
     "output_type": "stream",
     "text": [
      "portion = 0.02 #18:\tnum_val = 118\tacc = 0.983051\n",
      "portion = 0.02 #19:\tnum_val = 118\tacc = 1.000000\n",
      "portion = 0.02 #20:\tnum_val = 118\tacc = 0.983051\n",
      "portion = 0.02 #21:\tnum_val = 118\tacc = 1.000000\n",
      "portion = 0.02 #22:\tnum_val = 118\tacc = 1.000000\n",
      "portion = 0.02 #23:\tnum_val = 118\tacc = 0.974576\n",
      "portion = 0.02 #24:\tnum_val = 118\tacc = 0.966102\n",
      "portion = 0.02 #25:\tnum_val = 118\tacc = 1.000000\n",
      "portion = 0.02 #26:\tnum_val = 118\tacc = 0.991525\n",
      "portion = 0.02 #27:\tnum_val = 118\tacc = 1.000000\n",
      "portion = 0.02 #28:\tnum_val = 118\tacc = 0.983051\n",
      "portion = 0.02 #29:\tnum_val = 118\tacc = 1.000000\n",
      "portion = 0.02 #30:\tnum_val = 118\tacc = 0.991525\n",
      "portion = 0.02 #31:\tnum_val = 118\tacc = 0.991525\n",
      "portion = 0.02 #32:\tnum_val = 118\tacc = 1.000000\n",
      "portion = 0.02 #33:\tnum_val = 118\tacc = 1.000000\n",
      "portion = 0.02 #34:\tnum_val = 118\tacc = 1.000000\n",
      "portion = 0.02 #35:\tnum_val = 118\tacc = 1.000000\n",
      "portion = 0.02 #36:\tnum_val = 118\tacc = 1.000000\n",
      "portion = 0.02 #37:\tnum_val = 118\tacc = 1.000000\n",
      "portion = 0.02 #38:\tnum_val = 118\tacc = 0.991525\n",
      "portion = 0.02 #39:\tnum_val = 118\tacc = 0.983051\n",
      "portion = 0.02 #40:\tnum_val = 118\tacc = 1.000000\n",
      "portion = 0.02 #41:\tnum_val = 118\tacc = 0.932203\n",
      "portion = 0.02 #42:\tnum_val = 118\tacc = 1.000000\n",
      "portion = 0.02 #43:\tnum_val = 118\tacc = 0.983051\n",
      "portion = 0.02 #44:\tnum_val = 118\tacc = 1.000000\n",
      "portion = 0.02 #45:\tnum_val = 118\tacc = 1.000000\n",
      "portion = 0.02 #46:\tnum_val = 118\tacc = 1.000000\n",
      "portion = 0.02 #47:\tnum_val = 118\tacc = 1.000000\n",
      "portion = 0.02 #48:\tnum_val = 118\tacc = 1.000000\n",
      "portion = 0.02 #49:\tnum_val = 118\tacc = 1.000000\n",
      "FIN portion = 0.02:\tnum_val = 118.000000 +- 0.000000\tacc = 0.992712 +- 0.012685\n"
     ]
    }
   ],
   "source": [
    "portions = [0.005, 0.01, 0.015, 0.02]\n",
    "#portions = [0.005, 0.01, 0.015, 0.02, 0.025, 0.03]\n",
    "rpt = 50\n",
    "\n",
    "nn_x = []\n",
    "nn_y = []\n",
    "nn_x_err = []\n",
    "nn_y_err = []\n",
    "\n",
    "for portion in portions:\n",
    "    accs = []\n",
    "    num_vals = []\n",
    "    for i in range(rpt):\n",
    "        _, num_val1, acc1, _ = nn_on_mnist.learn_nn(raw_data_x, raw_data_y, portion=portion, fracs=[0.6, 0.4], \\\n",
    "                                        num_classes=num_classes, show_msgs=False)\n",
    "        print('portion = {} #{}:\\tnum_val = {}\\tacc = {:.6f}'.format(portion, i, num_val1, acc1))\n",
    "        accs.append(acc1)\n",
    "        num_vals.append(num_val1)\n",
    "        \n",
    "    nn_x.append(np.mean(num_vals))\n",
    "    nn_x_err.append(np.std(num_vals))\n",
    "    nn_y.append(np.mean(accs))\n",
    "    nn_y_err.append(np.std(accs))\n",
    "    print('portion = {} #FINAL:\\tnum_val = {:.6f} +- {:.6f}\\tacc = {:.6f} +- {:.6f}'\\\n",
    "          .format(portion, np.mean(num_vals), np.std(num_vals), np.mean(accs), np.std(accs)))"
   ]
  },
  {
   "cell_type": "code",
   "execution_count": 5,
   "id": "1b9d3a86",
   "metadata": {},
   "outputs": [
    {
     "data": {
      "text/plain": [
       "<matplotlib.legend.Legend at 0x7f8388dda400>"
      ]
     },
     "execution_count": 5,
     "metadata": {},
     "output_type": "execute_result"
    },
    {
     "data": {
      "image/png": "[encoded data removed]",
      "text/plain": [
       "<Figure size 432x288 with 1 Axes>"
      ]
     },
     "metadata": {
      "needs_background": "light"
     },
     "output_type": "display_data"
    }
   ],
   "source": [
    "# plot accuracies obtained at different sizes\n",
    "plt.figure()\n",
    "plt.errorbar(nn_x, nn_y, nn_y_err, nn_x_err, marker='o')\n",
    "plt.xlabel('number of validation images')\n",
    "plt.ylabel('accuracy')\n",
    "plt.legend('neural network')"
   ]
  },
  {
   "cell_type": "markdown",
   "id": "7f9f2625",
   "metadata": {},
   "source": [
    "# Method 2: SIFT and similarity graph"
   ]
  },
  {
   "cell_type": "code",
   "execution_count": 6,
   "id": "7231c324",
   "metadata": {},
   "outputs": [],
   "source": [
    "# Uncomment if you did not run method 1\n",
    "# raw_data_x, raw_data_y, num_classes, data_dim, img_sz = sift_on_mnist.prepare_data('mnist')"
   ]
  },
  {
   "cell_type": "code",
   "execution_count": 7,
   "id": "915f6ea2",
   "metadata": {
    "scrolled": true
   },
   "outputs": [],
   "source": [
    "# Test Area\n",
    "# portion = 0.005\n",
    "# fracs = [0.6, 0.4]\n",
    "# show_msgs = True\n",
    "\n",
    "# num_train, num_val, acc, M = sift_on_mnist.learn_graph(raw_data_x, raw_data_y, portion, fracs, img_sz, show_msgs)"
   ]
  },
  {
   "cell_type": "code",
   "execution_count": 8,
   "id": "bd9d6e11",
   "metadata": {
    "scrolled": true
   },
   "outputs": [
    {
     "name": "stdout",
     "output_type": "stream",
     "text": [
      "portion = 0.005 #0:\tnum_val = 27\tacc = 0.592593\n",
      "portion = 0.005 #1:\tnum_val = 24\tacc = 0.916667\n",
      "portion = 0.005 #2:\tnum_val = 26\tacc = 0.807692\n",
      "portion = 0.005 #3:\tnum_val = 29\tacc = 0.896552\n",
      "portion = 0.005 #4:\tnum_val = 26\tacc = 0.961538\n",
      "portion = 0.005 #FINAL:\tnum_val = 26.400000 +- 1.624808\tacc = 0.835008 +- 0.131131\n",
      "portion = 0.01 #0:\tnum_val = 55\tacc = 0.890909\n",
      "portion = 0.01 #1:\tnum_val = 49\tacc = 0.959184\n",
      "portion = 0.01 #2:\tnum_val = 55\tacc = 0.963636\n",
      "portion = 0.01 #3:\tnum_val = 53\tacc = 0.962264\n",
      "portion = 0.01 #4:\tnum_val = 53\tacc = 0.962264\n",
      "portion = 0.01 #FINAL:\tnum_val = 53.000000 +- 2.190890\tacc = 0.947651 +- 0.028409\n",
      "portion = 0.015 #0:\tnum_val = 74\tacc = 0.918919\n",
      "portion = 0.015 #1:\tnum_val = 81\tacc = 0.888889\n",
      "portion = 0.015 #2:\tnum_val = 79\tacc = 0.936709\n",
      "portion = 0.015 #3:\tnum_val = 79\tacc = 0.949367\n",
      "portion = 0.015 #4:\tnum_val = 78\tacc = 0.948718\n",
      "portion = 0.015 #FINAL:\tnum_val = 78.200000 +- 2.315167\tacc = 0.928520 +- 0.022682\n",
      "portion = 0.02 #0:\tnum_val = 107\tacc = 0.925234\n",
      "portion = 0.02 #1:\tnum_val = 105\tacc = 0.971429\n",
      "portion = 0.02 #2:\tnum_val = 98\tacc = 0.959184\n",
      "portion = 0.02 #3:\tnum_val = 103\tacc = 0.990291\n",
      "portion = 0.02 #4:\tnum_val = 108\tacc = 0.990741\n",
      "portion = 0.02 #FINAL:\tnum_val = 104.200000 +- 3.544009\tacc = 0.967376 +- 0.024210\n"
     ]
    }
   ],
   "source": [
    "portions = [0.005, 0.01, 0.015, 0.02]\n",
    "#portions = [0.005, 0.01, 0.015, 0.02, 0.025, 0.03]\n",
    "rpt = 5\n",
    "\n",
    "sg_x = []\n",
    "sg_y = []\n",
    "sg_x_err = []\n",
    "sg_y_err = []\n",
    "\n",
    "for portion in portions:\n",
    "    accs = []\n",
    "    num_vals = []\n",
    "    for i in range(rpt):\n",
    "        _, num_val1, acc1, _ = sift_on_mnist.learn_graph(raw_data_x, raw_data_y, portion=portion, \\\n",
    "                                                         fracs=[0.6, 0.4], show_msgs=False)\n",
    "        print('portion = {} #{}:\\tnum_val = {}\\tacc = {:.6f}'.format(portion, i, num_val1, acc1))\n",
    "        accs.append(acc1)\n",
    "        num_vals.append(num_val1)\n",
    "        \n",
    "    sg_x.append(np.mean(num_vals))\n",
    "    sg_x_err.append(np.std(num_vals))\n",
    "    sg_y.append(np.mean(accs))\n",
    "    sg_y_err.append(np.std(accs))\n",
    "    print('portion = {} #FINAL:\\tnum_val = {:.6f} +- {:.6f}\\tacc = {:.6f} +- {:.6f}'\\\n",
    "          .format(portion, np.mean(num_vals), np.std(num_vals), np.mean(accs), np.std(accs)))"
   ]
  },
  {
   "cell_type": "code",
   "execution_count": 9,
   "id": "dd0b0868",
   "metadata": {},
   "outputs": [
    {
     "data": {
      "text/plain": [
       "<matplotlib.legend.Legend at 0x7f8388e68cf8>"
      ]
     },
     "execution_count": 9,
     "metadata": {},
     "output_type": "execute_result"
    },
    {
     "data": {
      "image/png": "[encoded data removed]",
      "text/plain": [
       "<Figure size 432x288 with 1 Axes>"
      ]
     },
     "metadata": {
      "needs_background": "light"
     },
     "output_type": "display_data"
    }
   ],
   "source": [
    "plt.figure()\n",
    "plt.errorbar(sg_x, sg_y, sg_y_err, sg_x_err, marker='o')\n",
    "plt.xlabel('number of validation images')\n",
    "plt.ylabel('accuracy')\n",
    "plt.legend('graph filter')"
   ]
  },
  {
   "cell_type": "markdown",
   "id": "bf710dbe",
   "metadata": {},
   "source": [
    "## Both methods on one plot"
   ]
  },
  {
   "cell_type": "code",
   "execution_count": 12,
   "id": "4df8383f",
   "metadata": {},
   "outputs": [
    {
     "data": {
      "image/png": "[encoded data removed]",
      "text/plain": [
       "<Figure size 432x288 with 1 Axes>"
      ]
     },
     "metadata": {
      "needs_background": "light"
     },
     "output_type": "display_data"
    }
   ],
   "source": [
    "plt.figure()\n",
    "plt.errorbar(nn_x, nn_y, nn_y_err, nn_x_err, marker='o')\n",
    "plt.errorbar(sg_x, sg_y, sg_y_err, sg_x_err, marker='o')\n",
    "plt.xlabel('number of validation images')\n",
    "plt.ylabel('accuracy')\n",
    "plt.legend(['neural network', 'graph filter'])\n",
    "plt.show()"
   ]
  },
  {
   "cell_type": "markdown",
   "id": "783b562b",
   "metadata": {},
   "source": [
    "# Compare both methods in one function"
   ]
  },
  {
   "cell_type": "code",
   "execution_count": 13,
   "id": "fb72b3a4",
   "metadata": {},
   "outputs": [],
   "source": [
    "def compare_nn_sg(portions, nn_runs=50, sg_runs=5, nn_show_msgs=True, sg_show_msgs=True):\n",
    "    \"\"\"\n",
    "    Run neural network and similarity graph methods multiple times.\n",
    "    Measure mean and std of obtained accuracies.\n",
    "    Plot accuracies.\n",
    "    \n",
    "    Input: portions, nn_runs, sg_runs, show_msgs\n",
    "    portions - determines size of problem to run\n",
    "    nn_runs - number of times nn will run for each problem size\n",
    "    sg_runs - number of times sg will run for each problem size\n",
    "    nn_show_msgs - wether or not to show results for each run of nn\n",
    "    sg_show_msgs - wether or not to show results for each run of sg\n",
    "    \n",
    "    Output: nn_stats, sg_stats\n",
    "    nn_stats - dict of mean and std of accuracies and num_vals obtained by nn\n",
    "    sg_stats - dict of mean and std of accuracies and num_vals obtained by sg\n",
    "    \"\"\"\n",
    "    \n",
    "    # run nn\n",
    "    nn_x = []\n",
    "    nn_y = []\n",
    "    nn_x_err = []\n",
    "    nn_y_err = []\n",
    "\n",
    "    if nn_show_msgs:\n",
    "        print('@@ Neural Network:')\n",
    "        \n",
    "    for portion in portions:\n",
    "        accs = []\n",
    "        num_vals = []\n",
    "        for i in range(nn_runs):\n",
    "            _, num_val1, acc1, _ = nn_on_mnist.learn_nn(raw_data_x, raw_data_y, \\\n",
    "                                                        portion=portion, fracs=[0.6, 0.4], \\\n",
    "                                                        num_classes=num_classes, show_msgs=False)\n",
    "            if nn_show_msgs:\n",
    "                print('portion = {} #{}:\\tnum_val = {}\\tacc = {:.6f}'.format(portion, i, num_val1, acc1))\n",
    "            accs.append(acc1)\n",
    "            num_vals.append(num_val1)\n",
    "\n",
    "        nn_x.append(np.mean(num_vals))\n",
    "        nn_x_err.append(np.std(num_vals))\n",
    "        nn_y.append(np.mean(accs))\n",
    "        nn_y_err.append(np.std(accs))\n",
    "        if nn_show_msgs:\n",
    "            print('portion = {} #FINAL:\\tnum_val = {:.6f} +- {:.6f}\\tacc = {:.6f} +- {:.6f}'\\\n",
    "                  .format(portion, np.mean(num_vals), np.std(num_vals), np.mean(accs), np.std(accs)))\n",
    "    \n",
    "    # run sg\n",
    "    sg_x = []\n",
    "    sg_y = []\n",
    "    sg_x_err = []\n",
    "    sg_y_err = []\n",
    "    \n",
    "    if sg_show_msgs:\n",
    "        print('@@ Similarity Graph:')\n",
    "\n",
    "    for portion in portions:\n",
    "        accs = []\n",
    "        num_vals = []\n",
    "        for i in range(sg_runs):\n",
    "            _, num_val1, acc1, _ = sift_on_mnist.learn_graph(raw_data_x, raw_data_y, portion=portion, \\\n",
    "                                                             fracs=[0.6, 0.4], show_msgs=False)\n",
    "            if sg_show_msgs:\n",
    "                print('portion = {} #{}:\\tnum_val = {}\\tacc = {:.6f}'.format(portion, i, num_val1, acc1))\n",
    "            accs.append(acc1)\n",
    "            num_vals.append(num_val1)\n",
    "\n",
    "        sg_x.append(np.mean(num_vals))\n",
    "        sg_x_err.append(np.std(num_vals))\n",
    "        sg_y.append(np.mean(accs))\n",
    "        sg_y_err.append(np.std(accs))\n",
    "        if sg_show_msgs:\n",
    "            print('portion = {} #FINAL:\\tnum_val = {:.6f} +- {:.6f}\\tacc = {:.6f} +- {:.6f}'\\\n",
    "                  .format(portion, np.mean(num_vals), np.std(num_vals), np.mean(accs), np.std(accs)))\n",
    "        \n",
    "    \n",
    "    # plot accuracies\n",
    "    plt.figure()\n",
    "    plt.errorbar(nn_x, nn_y, nn_y_err, nn_x_err, marker='o')\n",
    "    plt.errorbar(sg_x, sg_y, sg_y_err, sg_x_err, marker='o')\n",
    "    plt.xlabel('number of validation images')\n",
    "    plt.ylabel('accuracy')\n",
    "    plt.legend(['neural network', 'graph filter'])\n",
    "    plt.show()\n",
    "    \n",
    "    nn_stats = {'nn_nv': nn_x, 'nn_nv_err': nn_x_err, 'nn_ac': nn_y, 'nn_ac_err': nn_y_err}\n",
    "    sg_stats = {'sg_nv': sg_x, 'sg_nv_err': sg_x_err, 'sg_ac': sg_y, 'sg_ac_err': sg_y_err}\n",
    "    \n",
    "    return nn_stats, sg_stats\n",
    "    "
   ]
  },
  {
   "cell_type": "code",
   "execution_count": 14,
   "id": "125d84a2",
   "metadata": {},
   "outputs": [
    {
     "name": "stdout",
     "output_type": "stream",
     "text": [
      "@@ Neural Network:\n",
      "portion = 0.005 #0:\tnum_val = 29\tacc = 1.000000\n",
      "portion = 0.005 #1:\tnum_val = 29\tacc = 0.965517\n",
      "portion = 0.005 #2:\tnum_val = 29\tacc = 1.000000\n",
      "portion = 0.005 #3:\tnum_val = 29\tacc = 0.965517\n",
      "portion = 0.005 #4:\tnum_val = 29\tacc = 1.000000\n",
      "portion = 0.005 #FINAL:\tnum_val = 29.000000 +- 0.000000\tacc = 0.986207 +- 0.016893\n",
      "portion = 0.01 #0:\tnum_val = 58\tacc = 0.982759\n",
      "portion = 0.01 #1:\tnum_val = 58\tacc = 1.000000\n",
      "portion = 0.01 #2:\tnum_val = 58\tacc = 1.000000\n",
      "portion = 0.01 #3:\tnum_val = 58\tacc = 1.000000\n",
      "portion = 0.01 #4:\tnum_val = 58\tacc = 1.000000\n",
      "portion = 0.01 #FINAL:\tnum_val = 58.000000 +- 0.000000\tacc = 0.996552 +- 0.006897\n",
      "portion = 0.015 #0:\tnum_val = 88\tacc = 0.988636\n",
      "portion = 0.015 #1:\tnum_val = 88\tacc = 1.000000\n",
      "portion = 0.015 #2:\tnum_val = 88\tacc = 1.000000\n",
      "portion = 0.015 #3:\tnum_val = 88\tacc = 0.988636\n",
      "portion = 0.015 #4:\tnum_val = 88\tacc = 1.000000\n",
      "portion = 0.015 #FINAL:\tnum_val = 88.000000 +- 0.000000\tacc = 0.995455 +- 0.005567\n",
      "portion = 0.02 #0:\tnum_val = 118\tacc = 1.000000\n",
      "portion = 0.02 #1:\tnum_val = 118\tacc = 1.000000\n",
      "portion = 0.02 #2:\tnum_val = 118\tacc = 1.000000\n",
      "portion = 0.02 #3:\tnum_val = 118\tacc = 1.000000\n",
      "portion = 0.02 #4:\tnum_val = 118\tacc = 1.000000\n",
      "portion = 0.02 #FINAL:\tnum_val = 118.000000 +- 0.000000\tacc = 1.000000 +- 0.000000\n",
      "@@ Similarity Graph:\n",
      "portion = 0.005 #0:\tnum_val = 29\tacc = 0.931034\n",
      "portion = 0.005 #FINAL:\tnum_val = 29.000000 +- 0.000000\tacc = 0.931034 +- 0.000000\n",
      "portion = 0.01 #0:\tnum_val = 52\tacc = 0.980769\n",
      "portion = 0.01 #FINAL:\tnum_val = 52.000000 +- 0.000000\tacc = 0.980769 +- 0.000000\n",
      "portion = 0.015 #0:\tnum_val = 80\tacc = 0.937500\n",
      "portion = 0.015 #FINAL:\tnum_val = 80.000000 +- 0.000000\tacc = 0.937500 +- 0.000000\n",
      "portion = 0.02 #0:\tnum_val = 108\tacc = 0.962963\n",
      "portion = 0.02 #FINAL:\tnum_val = 108.000000 +- 0.000000\tacc = 0.962963 +- 0.000000\n"
     ]
    },
    {
     "data": {
      "image/png": "[encoded data removed]",
      "text/plain": [
       "<Figure size 432x288 with 1 Axes>"
      ]
     },
     "metadata": {
      "needs_background": "light"
     },
     "output_type": "display_data"
    },
    {
     "data": {
      "text/plain": [
       "({'nn_nv': [29.0, 58.0, 88.0, 118.0],\n",
       "  'nn_nv_err': [0.0, 0.0, 0.0, 0.0],\n",
       "  'nn_ac': [0.9862068965517242, 0.9965517241379309, 0.9954545454545455, 1.0],\n",
       "  'nn_ac_err': [0.016893032708849485,\n",
       "   0.006896551724137945,\n",
       "   0.005567022142689036,\n",
       "   0.0]},\n",
       " {'sg_nv': [29.0, 52.0, 80.0, 108.0],\n",
       "  'sg_nv_err': [0.0, 0.0, 0.0, 0.0],\n",
       "  'sg_ac': [0.9310344827586207,\n",
       "   0.9807692307692307,\n",
       "   0.9375,\n",
       "   0.9629629629629629],\n",
       "  'sg_ac_err': [0.0, 0.0, 0.0, 0.0]})"
      ]
     },
     "execution_count": 14,
     "metadata": {},
     "output_type": "execute_result"
    }
   ],
   "source": [
    "portions = [0.005, 0.01, 0.015, 0.02]\n",
    "nn_stats, sg_stats = compare_nn_sg(portions=portions, nn_runs=5, sg_runs=1, nn_show_msgs=False, sg_show_msgs=True)"
   ]
  },
  {
   "cell_type": "code",
   "execution_count": null,
   "id": "940d2c9f",
   "metadata": {},
   "outputs": [],
   "source": []
  },
  {
   "cell_type": "code",
   "execution_count": null,
   "id": "42cb2d2e",
   "metadata": {},
   "outputs": [],
   "source": []
  },
  {
   "cell_type": "code",
   "execution_count": null,
   "id": "5b90a6f0",
   "metadata": {},
   "outputs": [],
   "source": []
  },
  {
   "cell_type": "code",
   "execution_count": null,
   "id": "25f85ac1",
   "metadata": {},
   "outputs": [],
   "source": []
  },
  {
   "cell_type": "markdown",
   "id": "a445bca3",
   "metadata": {},
   "source": [
    "# Old manual measurements"
   ]
  },
  {
   "cell_type": "code",
   "execution_count": 2,
   "id": "f1008eda",
   "metadata": {},
   "outputs": [],
   "source": [
    "sizes = [0.005, 0.01, 0.015, 0.02, 0.025, 0.03]\n",
    "nn_nums = [(43, 29), (88, 58), (132, 88), (177, 118), (221, 147), (265, 177)]\n",
    "gf_nums = [(41, 26), (81, 54), (120, 82), (161, 106), (199, 131), (239,154)]\n",
    "NN = [1.000000, 1.000000, 1.000000, 0.991525, 0.993197, 0.988701]\n",
    "GF = [0.961538, 0.962963, 0.939024, 0.962264, 0.923664, 0.922078]"
   ]
  },
  {
   "cell_type": "code",
   "execution_count": 10,
   "id": "6907cce5",
   "metadata": {},
   "outputs": [
    {
     "data": {
      "text/plain": [
       "Text(0, 0.5, 'accuracy')"
      ]
     },
     "execution_count": 10,
     "metadata": {},
     "output_type": "execute_result"
    },
    {
     "data": {
      "image/png": "[encoded data removed]",
      "text/plain": [
       "<Figure size 432x288 with 1 Axes>"
      ]
     },
     "metadata": {
      "needs_background": "light"
     },
     "output_type": "display_data"
    }
   ],
   "source": [
    "plt.figure()\n",
    "plt.plot([y for (x,y) in nn_nums], NN, 'o-')\n",
    "plt.plot([y for (x,y) in gf_nums], GF, 'o-')\n",
    "plt.legend(['neural net', 'graph filter'])\n",
    "plt.xlabel('number of validation images')\n",
    "plt.ylabel('accuracy')"
   ]
  }
 ],
 "metadata": {
  "kernelspec": {
   "display_name": "Python 3",
   "language": "python",
   "name": "python3"
  },
  "language_info": {
   "codemirror_mode": {
    "name": "ipython",
    "version": 3
   },
   "file_extension": ".py",
   "mimetype": "text/x-python",
   "name": "python",
   "nbconvert_exporter": "python",
   "pygments_lexer": "ipython3",
   "version": "3.6.9"
  }
 },
 "nbformat": 4,
 "nbformat_minor": 5
}
